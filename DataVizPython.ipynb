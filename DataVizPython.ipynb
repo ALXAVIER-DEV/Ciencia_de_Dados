{
  "nbformat": 4,
  "nbformat_minor": 0,
  "metadata": {
    "colab": {
      "name": "DataVizPython",
      "private_outputs": true,
      "provenance": [],
      "authorship_tag": "ABX9TyMhLKJs53aCkaOAF2qd9WMK",
      "include_colab_link": true
    },
    "kernelspec": {
      "name": "python3",
      "display_name": "Python 3"
    },
    "language_info": {
      "name": "python"
    }
  },
  "cells": [
    {
      "cell_type": "markdown",
      "metadata": {
        "id": "view-in-github",
        "colab_type": "text"
      },
      "source": [
        "<a href=\"https://colab.research.google.com/github/ALXAVIER-DEV/Ciencia_de_Dados/blob/main/DataVizPython.ipynb\" target=\"_parent\"><img src=\"https://colab.research.google.com/assets/colab-badge.svg\" alt=\"Open In Colab\"/></a>"
      ]
    },
    {
      "cell_type": "markdown",
      "metadata": {
        "id": "CsjDWRQn_ngo"
      },
      "source": [
        "## Data Dictonary\n",
        "Its mixed data, that is both, numerical categorical present. The dataset consist opf 1000 students record with a total "
      ]
    },
    {
      "cell_type": "markdown",
      "metadata": {
        "id": "e0F3FwKMB3s3"
      },
      "source": [
        "1 - gender : categorical\n",
        "2 - race/ethnicity : categorial\n",
        "3 - parental level of education : categarial\n",
        "4 - lunch : categorical\n",
        "5 - test preparation course : categorical\n",
        "6 - math : numerical\n",
        "7 - reading score : numerical ; and\n",
        "8 - writing score : numerical\n",
        "\n",
        "The dataset is taken from \"Students Performance in Exams - Marks secured by the students in varios subjects\"by Jakki Sesshpangu REF: https://kaggle.com/spscientist/students-performance-in-exams"
      ]
    },
    {
      "cell_type": "code",
      "metadata": {
        "id": "QRqJCLxSBzGM"
      },
      "source": [
        "!pip -q install sweetviz"
      ],
      "execution_count": null,
      "outputs": []
    },
    {
      "cell_type": "code",
      "metadata": {
        "id": "hISLl3c4CUCR"
      },
      "source": [
        "import sweetviz as sv\n",
        "import pandas as pd\n"
      ],
      "execution_count": null,
      "outputs": []
    },
    {
      "cell_type": "code",
      "metadata": {
        "id": "1xHRbwwNCdcG"
      },
      "source": [
        "##Loading the data\n",
        "data = pd.read_csv(\"StudentsPerformance.csv\")\n",
        "# Printing data insights\n",
        "print(data.info())"
      ],
      "execution_count": null,
      "outputs": []
    },
    {
      "cell_type": "code",
      "metadata": {
        "id": "U5lF_qocjTUZ"
      },
      "source": [
        "print(data.head(5))"
      ],
      "execution_count": null,
      "outputs": []
    },
    {
      "cell_type": "code",
      "metadata": {
        "id": "xUG4hHu2jZgu"
      },
      "source": [
        "# Analyzing data \n",
        "report = sv.analyze(data)\n",
        "\n",
        "report.show_html('eda_report.html') "
      ],
      "execution_count": null,
      "outputs": []
    },
    {
      "cell_type": "code",
      "metadata": {
        "id": "4_ssrm6qlSAo"
      },
      "source": [
        "# Split the data in two datasets\n",
        "data1 = data[0:400]\n",
        "data2 = data[400:]"
      ],
      "execution_count": null,
      "outputs": []
    },
    {
      "cell_type": "code",
      "metadata": {
        "id": "ua5_QWP-mLzp"
      },
      "source": [
        "print(data1.info())"
      ],
      "execution_count": null,
      "outputs": []
    },
    {
      "cell_type": "code",
      "metadata": {
        "id": "-Dy4DihxmTYv"
      },
      "source": [
        "print(data2.info())"
      ],
      "execution_count": null,
      "outputs": []
    },
    {
      "cell_type": "code",
      "metadata": {
        "id": "FKVRGGaHmW8L"
      },
      "source": [
        "report_comp = sv.compare(data1, data2)\n",
        "report_comp.show_html()"
      ],
      "execution_count": null,
      "outputs": []
    },
    {
      "cell_type": "code",
      "metadata": {
        "id": "oL9XjNN4mfut"
      },
      "source": [
        "# Comparting the two datasets\n",
        "report_comp=sv.compare([data1, 'Base Original'],[data2,'Base em validação'])\n",
        "\n",
        "# Generating report\n",
        "report_comp.show_html('Compare_Results.html')"
      ],
      "execution_count": null,
      "outputs": []
    },
    {
      "cell_type": "code",
      "metadata": {
        "id": "1cFVHjARnZ6a"
      },
      "source": [
        "# Target anallysis\n",
        "report_comp=sv.compare(data1, data2,'math score')\n",
        "report_comp.show_html('Compare_Results.html')"
      ],
      "execution_count": null,
      "outputs": []
    },
    {
      "cell_type": "markdown",
      "metadata": {
        "id": "qVI4ff-jpYYf"
      },
      "source": [
        "##Playning with Reports"
      ]
    },
    {
      "cell_type": "code",
      "metadata": {
        "id": "1uzRZIJ0pfQn"
      },
      "source": [
        "report_comp.show_html(filepath='report.html',\n",
        "open_browser=True,\n",
        "layout='vertical',\n",
        "scale=0.9)"
      ],
      "execution_count": null,
      "outputs": []
    },
    {
      "cell_type": "code",
      "metadata": {
        "id": "PGdWcIyZqBh3"
      },
      "source": [
        ""
      ],
      "execution_count": null,
      "outputs": []
    }
  ]
}