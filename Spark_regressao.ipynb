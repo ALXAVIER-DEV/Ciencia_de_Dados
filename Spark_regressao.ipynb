{
  "nbformat": 4,
  "nbformat_minor": 0,
  "metadata": {
    "colab": {
      "private_outputs": true,
      "provenance": [],
      "authorship_tag": "ABX9TyOAw3h2fRn43FxAhbQT9yVv",
      "include_colab_link": true
    },
    "kernelspec": {
      "name": "python3",
      "display_name": "Python 3"
    },
    "language_info": {
      "name": "python"
    }
  },
  "cells": [
    {
      "cell_type": "markdown",
      "metadata": {
        "id": "view-in-github",
        "colab_type": "text"
      },
      "source": [
        "<a href=\"https://colab.research.google.com/github/ALXAVIER-DEV/Ciencia_de_Dados/blob/main/Spark_regressao.ipynb\" target=\"_parent\"><img src=\"https://colab.research.google.com/assets/colab-badge.svg\" alt=\"Open In Colab\"/></a>"
      ]
    },
    {
      "cell_type": "code",
      "execution_count": null,
      "metadata": {
        "id": "sc8Niuhritat"
      },
      "outputs": [],
      "source": [
        "!pip install pyspark\n"
      ]
    },
    {
      "cell_type": "code",
      "source": [
        "from pyspark.sql import SparkSession\n",
        "\n",
        "spark = SparkSession.builder\\\n",
        "    .master('local[*]')\\\n",
        "    .appName(\"Regressao com Spark\")\\\n",
        "    .getOrCreate()\n",
        "\n",
        "spark"
      ],
      "metadata": {
        "id": "UAjZ_Rn7kUx6"
      },
      "execution_count": null,
      "outputs": []
    },
    {
      "cell_type": "code",
      "source": [
        "from google.colab import drive\n",
        "drive.mount('/content/drive')"
      ],
      "metadata": {
        "id": "qYeN6Q1vpnpk"
      },
      "execution_count": null,
      "outputs": []
    },
    {
      "cell_type": "code",
      "source": [
        "dados = spark.read.json('/content/drive/MyDrive/Arquivos/imoveis.json')"
      ],
      "metadata": {
        "id": "JPLShEGLqL12"
      },
      "execution_count": null,
      "outputs": []
    },
    {
      "cell_type": "code",
      "source": [
        "dados"
      ],
      "metadata": {
        "id": "J7HSZ3hkqnpI"
      },
      "execution_count": null,
      "outputs": []
    },
    {
      "cell_type": "code",
      "source": [
        "dados.show(truncate=False)"
      ],
      "metadata": {
        "id": "IZ-47X5CqrEK"
      },
      "execution_count": null,
      "outputs": []
    },
    {
      "cell_type": "code",
      "source": [
        "dados.count()"
      ],
      "metadata": {
        "id": "-StwgctHqvjv"
      },
      "execution_count": null,
      "outputs": []
    },
    {
      "cell_type": "code",
      "source": [
        "dados.printSchema()"
      ],
      "metadata": {
        "id": "gKgKxhlSq6Zc"
      },
      "execution_count": null,
      "outputs": []
    },
    {
      "cell_type": "code",
      "source": [
        "from os import truncate\n",
        "dados\\\n",
        "    .select('ident.customerID', 'listing.*') \\\n",
        "    .show(truncate=False)"
      ],
      "metadata": {
        "id": "VmAJZVHcrC5Q"
      },
      "execution_count": null,
      "outputs": []
    },
    {
      "cell_type": "code",
      "source": [
        "dados\\\n",
        "    .select(\"ident.customerID\", \"listing.types.*\", \"listing.features.*\", \"listing.address.*\", \"listing.prices.price\", \"listing.prices.tax.*\")\\\n",
        "    .show(truncate=False)"
      ],
      "metadata": {
        "id": "2SyT6urVr8zq"
      },
      "execution_count": null,
      "outputs": []
    },
    {
      "cell_type": "code",
      "source": [
        "dados\\\n",
        "    .select(\"ident.customerID\", \"listing.types.*\", \"listing.features.*\", \"listing.address.*\", \"listing.prices.price\", \"listing.prices.tax.*\")\\\n",
        "    .drop(\"city\", \"location\", \"totalAreas\")\\\n",
        "    .show(truncate=False)\n"
      ],
      "metadata": {
        "id": "qEC9rXuQrBky"
      },
      "execution_count": null,
      "outputs": []
    },
    {
      "cell_type": "code",
      "source": [
        "dataset = dados\\\n",
        "    .select(\"ident.customerID\", \"listing.types.*\", \"listing.features.*\", \"listing.address.*\", \"listing.prices.price\", \"listing.prices.tax.*\")\\\n",
        "    .drop(\"city\", \"location\", \"totalAreas\")\\\n",
        "    #.show(truncate=False)\n"
      ],
      "metadata": {
        "id": "5oxllGxYtUcz"
      },
      "execution_count": null,
      "outputs": []
    },
    {
      "cell_type": "code",
      "source": [
        "dataset.printSchema()\n"
      ],
      "metadata": {
        "id": "zVO6oiMotjMh"
      },
      "execution_count": null,
      "outputs": []
    },
    {
      "cell_type": "code",
      "source": [
        "from pyspark.sql.types import IntegerType, DoubleType"
      ],
      "metadata": {
        "id": "RlyWvAYvtuPr"
      },
      "execution_count": null,
      "outputs": []
    },
    {
      "cell_type": "code",
      "source": [
        "dataset\\\n",
        "    .withColumn('usableAreas', dataset['usableAreas'].cast(IntegerType()))\\\n",
        "    .withColumn('price', dataset['price'].cast(DoubleType()))\\\n",
        "    .withColumn('condo', dataset['condo'].cast(DoubleType()))\\\n",
        "    .withColumn('iptu', dataset['iptu'].cast(DoubleType()))\\\n",
        "    .printSchema()"
      ],
      "metadata": {
        "id": "E-xSRljkt-OA"
      },
      "execution_count": null,
      "outputs": []
    },
    {
      "cell_type": "code",
      "source": [
        "dataset = dataset\\\n",
        "    .withColumn('usableAreas', dataset['usableAreas'].cast(IntegerType()))\\\n",
        "    .withColumn('price', dataset['price'].cast(DoubleType()))\\\n",
        "    .withColumn('condo', dataset['condo'].cast(DoubleType()))\\\n",
        "    .withColumn('iptu', dataset['iptu'].cast(DoubleType()))"
      ],
      "metadata": {
        "id": "SmYXA9WowEfn"
      },
      "execution_count": null,
      "outputs": []
    },
    {
      "cell_type": "code",
      "source": [
        "dataset.show()"
      ],
      "metadata": {
        "id": "QvlloHzFwl5b"
      },
      "execution_count": null,
      "outputs": []
    },
    {
      "cell_type": "code",
      "source": [
        "dataset\\\n",
        "    .select('usage')\\\n",
        "    .groupBy('usage')\\\n",
        "    .count()\\\n",
        "    .show()"
      ],
      "metadata": {
        "id": "GHxZ9zUYwpeH"
      },
      "execution_count": null,
      "outputs": []
    },
    {
      "cell_type": "code",
      "source": [
        "dataset\\\n",
        "    .select('*')\\\n",
        "    .where('usage==\"Residencial\"')"
      ],
      "metadata": {
        "id": "8XpdP-X0xAEQ"
      },
      "execution_count": null,
      "outputs": []
    },
    {
      "cell_type": "code",
      "source": [
        "dataset\\\n",
        "    .select('unit')\\\n",
        "    .groupBy('unit')\\\n",
        "    .count()\\\n",
        "    .show()"
      ],
      "metadata": {
        "id": "owMi8l2bxVt8"
      },
      "execution_count": null,
      "outputs": []
    },
    {
      "cell_type": "code",
      "source": [
        "dataset\\\n",
        "    .select('zone')\\\n",
        "    .groupBy('zone')\\\n",
        "    .count()\\\n",
        "    .show()"
      ],
      "metadata": {
        "id": "VD1UVVfFxeje"
      },
      "execution_count": null,
      "outputs": []
    },
    {
      "cell_type": "code",
      "source": [
        "from pyspark.sql import functions as f"
      ],
      "metadata": {
        "id": "WHnHA4rdxrIv"
      },
      "execution_count": null,
      "outputs": []
    },
    {
      "cell_type": "code",
      "source": [
        "dataset\\\n",
        "    .select([f.count(f.when(f.isnan(c) | f.isnull(c), True)).alias(c) for c in dataset.columns])\\\n",
        "    .show()"
      ],
      "metadata": {
        "id": "LaPow5eNyLDJ"
      },
      "execution_count": null,
      "outputs": []
    },
    {
      "cell_type": "code",
      "source": [
        "dataset\\\n",
        "    .select('*')\\\n",
        "    .na\\\n",
        "    .fill(0)\\\n",
        "    .show()"
      ],
      "metadata": {
        "id": "4R2UwFiUy6Ai"
      },
      "execution_count": null,
      "outputs": []
    },
    {
      "cell_type": "code",
      "source": [
        "dataset = dataset\\\n",
        "    .select('*')\\\n",
        "    .na\\\n",
        "    .fill(0)"
      ],
      "metadata": {
        "id": "h4vzfKsFoP6D"
      },
      "execution_count": null,
      "outputs": []
    },
    {
      "cell_type": "code",
      "source": [
        "dataset\\\n",
        "    .select([f.count(f.when(f.isnan(c) | f.isnull(c), True)).alias(c) for c in dataset.columns])\\\n",
        "    .show()"
      ],
      "metadata": {
        "id": "D6GaGEbfov3h"
      },
      "execution_count": null,
      "outputs": []
    },
    {
      "cell_type": "code",
      "source": [
        "dataset\\\n",
        "    .select('zone')\\\n",
        "    .groupBy('zone')\\\n",
        "    .count()\\\n",
        "    .show()\n"
      ],
      "metadata": {
        "id": "E1CbjKRxpHlY"
      },
      "execution_count": null,
      "outputs": []
    },
    {
      "cell_type": "code",
      "source": [
        "dataset = dataset\\\n",
        "    .where(f.col('zone') != '')"
      ],
      "metadata": {
        "id": "XWnFUpUXqBBZ"
      },
      "execution_count": null,
      "outputs": []
    },
    {
      "cell_type": "code",
      "source": [
        "dataset.show()"
      ],
      "metadata": {
        "id": "neosXvUCslDY"
      },
      "execution_count": null,
      "outputs": []
    },
    {
      "cell_type": "markdown",
      "source": [
        "###Preparando os Dados\n",
        "\n",
        "\n",
        "##Variáveis Dummy"
      ],
      "metadata": {
        "id": "nSyWMkHvxVIT"
      }
    },
    {
      "cell_type": "code",
      "source": [
        "dataset\\\n",
        "    .groupBy('customerID')\\\n",
        "    .pivot('unit')\\\n",
        "    .agg(f.lit(1))\\\n",
        "    .na\\\n",
        "    .fill(0)\\\n",
        "    .show()"
      ],
      "metadata": {
        "id": "mCssYMI2x4xE"
      },
      "execution_count": null,
      "outputs": []
    },
    {
      "cell_type": "code",
      "source": [
        "unit = dataset\\\n",
        "    .groupBy('customerID')\\\n",
        "    .pivot('unit')\\\n",
        "    .agg(f.lit(1))\\\n",
        "    .na\\\n",
        "    .fill(0)"
      ],
      "metadata": {
        "id": "9hW25G1myZQf"
      },
      "execution_count": null,
      "outputs": []
    },
    {
      "cell_type": "code",
      "source": [
        "dataset\\\n",
        "    .groupBy('customerID')\\\n",
        "    .pivot('zone')\\\n",
        "    .agg(f.lit(1))\\\n",
        "    .na\\\n",
        "    .fill(0)\\\n",
        "    .show()"
      ],
      "metadata": {
        "id": "cVeo7ltHqszb"
      },
      "execution_count": null,
      "outputs": []
    },
    {
      "cell_type": "code",
      "source": [
        "zone = dataset\\\n",
        "    .groupBy('customerID')\\\n",
        "    .pivot('zone')\\\n",
        "    .agg(f.lit(1))\\\n",
        "    .na\\\n",
        "    .fill(0)"
      ],
      "metadata": {
        "id": "TRGgFemZzLGJ"
      },
      "execution_count": null,
      "outputs": []
    },
    {
      "cell_type": "code",
      "source": [
        "dataset = dataset\\\n",
        "    .join(unit, 'customerID', how='inner')\\\n",
        "    .join(zone, 'customerID', how='inner')"
      ],
      "metadata": {
        "id": "fH1f4q_JzXtK"
      },
      "execution_count": null,
      "outputs": []
    },
    {
      "cell_type": "code",
      "source": [
        "dataset.show()"
      ],
      "metadata": {
        "id": "M1HvJvUE0Hbv"
      },
      "execution_count": null,
      "outputs": []
    },
    {
      "cell_type": "markdown",
      "source": [
        "##Vetoriacao"
      ],
      "metadata": {
        "id": "y4azV1NS0kH6"
      }
    },
    {
      "cell_type": "code",
      "source": [
        "from pyspark.ml.feature import VectorAssembler"
      ],
      "metadata": {
        "id": "itl4As4M0K5c"
      },
      "execution_count": null,
      "outputs": []
    },
    {
      "cell_type": "code",
      "source": [
        "dataset = dataset.withColumnRenamed('price','label')"
      ],
      "metadata": {
        "id": "gkiJN42U0yzA"
      },
      "execution_count": null,
      "outputs": []
    },
    {
      "cell_type": "code",
      "source": [
        "X = [\n",
        "    'bathrooms',\n",
        "    'bedrooms',\n",
        "    'floors',\n",
        "    'parkingSpaces',\n",
        "    'suites',\n",
        "    'unitFloor',\n",
        "    'unitsOnTheFloor',\n",
        "    'usableAreas',\n",
        "    'condo',\n",
        "    'iptu',\n",
        "    'Apartamento',\n",
        "    'Casa',\n",
        "    'Outros',\n",
        "    'Zona Central',\n",
        "    'Zona Norte',\n",
        "    'Zona Oeste',\n",
        "    'Zona Sul'\n",
        "]"
      ],
      "metadata": {
        "id": "XvGJi4mo08pB"
      },
      "execution_count": null,
      "outputs": []
    },
    {
      "cell_type": "code",
      "source": [
        "assembler = VectorAssembler(inputCols=X, outputCol= 'features')\n",
        "assembler"
      ],
      "metadata": {
        "id": "sTztvQem2591"
      },
      "execution_count": null,
      "outputs": []
    },
    {
      "cell_type": "code",
      "source": [
        "dataset.show()"
      ],
      "metadata": {
        "id": "qeXPJJB43MHX"
      },
      "execution_count": null,
      "outputs": []
    },
    {
      "cell_type": "code",
      "source": [
        "dataset_prep = assembler.transform(dataset).select('features', 'label')"
      ],
      "metadata": {
        "id": "XCv9P4XO3PHr"
      },
      "execution_count": null,
      "outputs": []
    },
    {
      "cell_type": "code",
      "source": [
        "dataset_prep.show(10, truncate=False)"
      ],
      "metadata": {
        "id": "0odMpYtW3ptP"
      },
      "execution_count": null,
      "outputs": []
    },
    {
      "cell_type": "code",
      "source": [
        "from pyspark.ml.stat import Correlation\n",
        "import pandas as pd\n"
      ],
      "metadata": {
        "id": "Ll_omFdKs9JC"
      },
      "execution_count": null,
      "outputs": []
    },
    {
      "cell_type": "code",
      "source": [
        "correlacao = Correlation.corr(dataset_prep, 'features').collect()"
      ],
      "metadata": {
        "id": "DyDa4OLOuOP6"
      },
      "execution_count": null,
      "outputs": []
    },
    {
      "cell_type": "code",
      "source": [
        "correlacao"
      ],
      "metadata": {
        "id": "Se_jjqXeua8u"
      },
      "execution_count": null,
      "outputs": []
    },
    {
      "cell_type": "code",
      "source": [
        "correlacao = Correlation.corr(dataset_prep, 'features').collect()[0][0]"
      ],
      "metadata": {
        "id": "P-AIQLOUufdw"
      },
      "execution_count": null,
      "outputs": []
    },
    {
      "cell_type": "code",
      "source": [
        "correlacao"
      ],
      "metadata": {
        "id": "QrUn6U51upAw"
      },
      "execution_count": null,
      "outputs": []
    },
    {
      "cell_type": "code",
      "source": [
        "correlacao.toArray()"
      ],
      "metadata": {
        "id": "zLldISxduq6X"
      },
      "execution_count": null,
      "outputs": []
    },
    {
      "cell_type": "code",
      "source": [
        "dataframe_correlacao = pd.DataFrame(correlacao.toArray(), columns=X, index=X)"
      ],
      "metadata": {
        "id": "v5PW47mEvPI0"
      },
      "execution_count": null,
      "outputs": []
    },
    {
      "cell_type": "code",
      "source": [
        "dataframe_correlacao"
      ],
      "metadata": {
        "id": "QFuY4nCRvpgA"
      },
      "execution_count": null,
      "outputs": []
    },
    {
      "cell_type": "code",
      "source": [
        "import matplotlib.pyplot as plt\n",
        "import seaborn as sns"
      ],
      "metadata": {
        "id": "3cLYrUbXvr5c"
      },
      "execution_count": null,
      "outputs": []
    },
    {
      "cell_type": "code",
      "source": [
        "plt.figure(figsize=(12,10))\n",
        "paleta = sns.color_palette(\"light:salmon\", as_cmap=True)\n",
        "sns.heatmap(dataframe_correlacao.round(1), annot=True, cmap=paleta)"
      ],
      "metadata": {
        "id": "D4BSMmikv8Ep"
      },
      "execution_count": null,
      "outputs": []
    },
    {
      "cell_type": "code",
      "source": [],
      "metadata": {
        "id": "YUVtuWf2wj3Q"
      },
      "execution_count": null,
      "outputs": []
    }
  ]
}